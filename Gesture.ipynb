{
  "nbformat": 4,
  "nbformat_minor": 0,
  "metadata": {
    "colab": {
      "provenance": [],
      "authorship_tag": "ABX9TyNoSMCsjeFviEdUmIZQPYjK",
      "include_colab_link": true
    },
    "kernelspec": {
      "name": "python3",
      "display_name": "Python 3"
    },
    "language_info": {
      "name": "python"
    }
  },
  "cells": [
    {
      "cell_type": "markdown",
      "metadata": {
        "id": "view-in-github",
        "colab_type": "text"
      },
      "source": [
        "<a href=\"https://colab.research.google.com/github/AaryanAnand10/Prosthetic-Hand-with-Real-Time-Machine/blob/main/Gesture.ipynb\" target=\"_parent\"><img src=\"https://colab.research.google.com/assets/colab-badge.svg\" alt=\"Open In Colab\"/></a>"
      ]
    },
    {
      "cell_type": "code",
      "execution_count": 2,
      "metadata": {
        "id": "5d1iZLokzDh1"
      },
      "outputs": [],
      "source": [
        "import pandas as pd\n",
        "import tensorflow as tf\n",
        "import matplotlib.pyplot as plt\n",
        "import numpy as np"
      ]
    },
    {
      "cell_type": "code",
      "source": [
        "import pandas as pd\n",
        "Input_path = '/content/EMG-data.csv'\n",
        "df = pd.read_csv(Input_path)\n",
        "print(df.head())\n",
        "print(df.shape)"
      ],
      "metadata": {
        "colab": {
          "base_uri": "https://localhost:8080/"
        },
        "id": "T8R__tx8zYZi",
        "outputId": "58023259-1ddd-4b6a-ffa2-76ad0ec66a67"
      },
      "execution_count": 1,
      "outputs": [
        {
          "output_type": "stream",
          "name": "stdout",
          "text": [
            "   time  channel1  channel2  channel3  channel4  channel5  channel6  channel7  \\\n",
            "0     1   0.00001  -0.00002  -0.00001  -0.00003   0.00000  -0.00001   0.00000   \n",
            "1     5   0.00001  -0.00002  -0.00001  -0.00003   0.00000  -0.00001   0.00000   \n",
            "2     6  -0.00001   0.00001   0.00002   0.00000   0.00001  -0.00002  -0.00001   \n",
            "3     7  -0.00001   0.00001   0.00002   0.00000   0.00001  -0.00002  -0.00001   \n",
            "4     8  -0.00001   0.00001   0.00002   0.00000   0.00001  -0.00002  -0.00001   \n",
            "\n",
            "   channel8  class  label  \n",
            "0  -0.00001    0.0    1.0  \n",
            "1  -0.00001    0.0    1.0  \n",
            "2   0.00001    0.0    1.0  \n",
            "3   0.00001    0.0    1.0  \n",
            "4   0.00001    0.0    1.0  \n",
            "(161806, 11)\n"
          ]
        }
      ]
    },
    {
      "cell_type": "code",
      "source": [
        "print(\"class :\", df[\"class\"].unique())\n",
        "print()\n",
        "#print(\"Labels :\",df[\"label\"].unique()) # 36 people hand gesture data\n",
        "#print()\n",
        "print(\"Value Count :\\n\",df[\"class\"].value_counts())"
      ],
      "metadata": {
        "colab": {
          "base_uri": "https://localhost:8080/"
        },
        "id": "Qjh_wbxDzYcK",
        "outputId": "0d89a569-d9e8-4448-b33f-a2914654a33d"
      },
      "execution_count": 3,
      "outputs": [
        {
          "output_type": "stream",
          "name": "stdout",
          "text": [
            "class : [ 0.  1.  2.  3.  4.  5.  6. nan]\n",
            "\n",
            "Value Count :\n",
            " class\n",
            "0.0    109121\n",
            "3.0      9007\n",
            "6.0      8959\n",
            "1.0      8907\n",
            "5.0      8731\n",
            "4.0      8546\n",
            "2.0      8534\n",
            "Name: count, dtype: int64\n"
          ]
        }
      ]
    },
    {
      "cell_type": "code",
      "source": [
        "features = df.drop(columns=[\"label\",\"class\",\"time\"])\n",
        "display(features.head())\n",
        "#print(features.shape())"
      ],
      "metadata": {
        "colab": {
          "base_uri": "https://localhost:8080/",
          "height": 206
        },
        "id": "WZS8UXSIzYe2",
        "outputId": "2b74efbd-118b-4b69-de46-5f550fab1950"
      },
      "execution_count": 4,
      "outputs": [
        {
          "output_type": "display_data",
          "data": {
            "text/plain": [
              "   channel1  channel2  channel3  channel4  channel5  channel6  channel7  \\\n",
              "0   0.00001  -0.00002  -0.00001  -0.00003   0.00000  -0.00001   0.00000   \n",
              "1   0.00001  -0.00002  -0.00001  -0.00003   0.00000  -0.00001   0.00000   \n",
              "2  -0.00001   0.00001   0.00002   0.00000   0.00001  -0.00002  -0.00001   \n",
              "3  -0.00001   0.00001   0.00002   0.00000   0.00001  -0.00002  -0.00001   \n",
              "4  -0.00001   0.00001   0.00002   0.00000   0.00001  -0.00002  -0.00001   \n",
              "\n",
              "   channel8  \n",
              "0  -0.00001  \n",
              "1  -0.00001  \n",
              "2   0.00001  \n",
              "3   0.00001  \n",
              "4   0.00001  "
            ],
            "text/html": [
              "\n",
              "  <div id=\"df-dfb7bade-8343-455c-ac94-02871c23b5a6\" class=\"colab-df-container\">\n",
              "    <div>\n",
              "<style scoped>\n",
              "    .dataframe tbody tr th:only-of-type {\n",
              "        vertical-align: middle;\n",
              "    }\n",
              "\n",
              "    .dataframe tbody tr th {\n",
              "        vertical-align: top;\n",
              "    }\n",
              "\n",
              "    .dataframe thead th {\n",
              "        text-align: right;\n",
              "    }\n",
              "</style>\n",
              "<table border=\"1\" class=\"dataframe\">\n",
              "  <thead>\n",
              "    <tr style=\"text-align: right;\">\n",
              "      <th></th>\n",
              "      <th>channel1</th>\n",
              "      <th>channel2</th>\n",
              "      <th>channel3</th>\n",
              "      <th>channel4</th>\n",
              "      <th>channel5</th>\n",
              "      <th>channel6</th>\n",
              "      <th>channel7</th>\n",
              "      <th>channel8</th>\n",
              "    </tr>\n",
              "  </thead>\n",
              "  <tbody>\n",
              "    <tr>\n",
              "      <th>0</th>\n",
              "      <td>0.00001</td>\n",
              "      <td>-0.00002</td>\n",
              "      <td>-0.00001</td>\n",
              "      <td>-0.00003</td>\n",
              "      <td>0.00000</td>\n",
              "      <td>-0.00001</td>\n",
              "      <td>0.00000</td>\n",
              "      <td>-0.00001</td>\n",
              "    </tr>\n",
              "    <tr>\n",
              "      <th>1</th>\n",
              "      <td>0.00001</td>\n",
              "      <td>-0.00002</td>\n",
              "      <td>-0.00001</td>\n",
              "      <td>-0.00003</td>\n",
              "      <td>0.00000</td>\n",
              "      <td>-0.00001</td>\n",
              "      <td>0.00000</td>\n",
              "      <td>-0.00001</td>\n",
              "    </tr>\n",
              "    <tr>\n",
              "      <th>2</th>\n",
              "      <td>-0.00001</td>\n",
              "      <td>0.00001</td>\n",
              "      <td>0.00002</td>\n",
              "      <td>0.00000</td>\n",
              "      <td>0.00001</td>\n",
              "      <td>-0.00002</td>\n",
              "      <td>-0.00001</td>\n",
              "      <td>0.00001</td>\n",
              "    </tr>\n",
              "    <tr>\n",
              "      <th>3</th>\n",
              "      <td>-0.00001</td>\n",
              "      <td>0.00001</td>\n",
              "      <td>0.00002</td>\n",
              "      <td>0.00000</td>\n",
              "      <td>0.00001</td>\n",
              "      <td>-0.00002</td>\n",
              "      <td>-0.00001</td>\n",
              "      <td>0.00001</td>\n",
              "    </tr>\n",
              "    <tr>\n",
              "      <th>4</th>\n",
              "      <td>-0.00001</td>\n",
              "      <td>0.00001</td>\n",
              "      <td>0.00002</td>\n",
              "      <td>0.00000</td>\n",
              "      <td>0.00001</td>\n",
              "      <td>-0.00002</td>\n",
              "      <td>-0.00001</td>\n",
              "      <td>0.00001</td>\n",
              "    </tr>\n",
              "  </tbody>\n",
              "</table>\n",
              "</div>\n",
              "    <div class=\"colab-df-buttons\">\n",
              "\n",
              "  <div class=\"colab-df-container\">\n",
              "    <button class=\"colab-df-convert\" onclick=\"convertToInteractive('df-dfb7bade-8343-455c-ac94-02871c23b5a6')\"\n",
              "            title=\"Convert this dataframe to an interactive table.\"\n",
              "            style=\"display:none;\">\n",
              "\n",
              "  <svg xmlns=\"http://www.w3.org/2000/svg\" height=\"24px\" viewBox=\"0 -960 960 960\">\n",
              "    <path d=\"M120-120v-720h720v720H120Zm60-500h600v-160H180v160Zm220 220h160v-160H400v160Zm0 220h160v-160H400v160ZM180-400h160v-160H180v160Zm440 0h160v-160H620v160ZM180-180h160v-160H180v160Zm440 0h160v-160H620v160Z\"/>\n",
              "  </svg>\n",
              "    </button>\n",
              "\n",
              "  <style>\n",
              "    .colab-df-container {\n",
              "      display:flex;\n",
              "      gap: 12px;\n",
              "    }\n",
              "\n",
              "    .colab-df-convert {\n",
              "      background-color: #E8F0FE;\n",
              "      border: none;\n",
              "      border-radius: 50%;\n",
              "      cursor: pointer;\n",
              "      display: none;\n",
              "      fill: #1967D2;\n",
              "      height: 32px;\n",
              "      padding: 0 0 0 0;\n",
              "      width: 32px;\n",
              "    }\n",
              "\n",
              "    .colab-df-convert:hover {\n",
              "      background-color: #E2EBFA;\n",
              "      box-shadow: 0px 1px 2px rgba(60, 64, 67, 0.3), 0px 1px 3px 1px rgba(60, 64, 67, 0.15);\n",
              "      fill: #174EA6;\n",
              "    }\n",
              "\n",
              "    .colab-df-buttons div {\n",
              "      margin-bottom: 4px;\n",
              "    }\n",
              "\n",
              "    [theme=dark] .colab-df-convert {\n",
              "      background-color: #3B4455;\n",
              "      fill: #D2E3FC;\n",
              "    }\n",
              "\n",
              "    [theme=dark] .colab-df-convert:hover {\n",
              "      background-color: #434B5C;\n",
              "      box-shadow: 0px 1px 3px 1px rgba(0, 0, 0, 0.15);\n",
              "      filter: drop-shadow(0px 1px 2px rgba(0, 0, 0, 0.3));\n",
              "      fill: #FFFFFF;\n",
              "    }\n",
              "  </style>\n",
              "\n",
              "    <script>\n",
              "      const buttonEl =\n",
              "        document.querySelector('#df-dfb7bade-8343-455c-ac94-02871c23b5a6 button.colab-df-convert');\n",
              "      buttonEl.style.display =\n",
              "        google.colab.kernel.accessAllowed ? 'block' : 'none';\n",
              "\n",
              "      async function convertToInteractive(key) {\n",
              "        const element = document.querySelector('#df-dfb7bade-8343-455c-ac94-02871c23b5a6');\n",
              "        const dataTable =\n",
              "          await google.colab.kernel.invokeFunction('convertToInteractive',\n",
              "                                                    [key], {});\n",
              "        if (!dataTable) return;\n",
              "\n",
              "        const docLinkHtml = 'Like what you see? Visit the ' +\n",
              "          '<a target=\"_blank\" href=https://colab.research.google.com/notebooks/data_table.ipynb>data table notebook</a>'\n",
              "          + ' to learn more about interactive tables.';\n",
              "        element.innerHTML = '';\n",
              "        dataTable['output_type'] = 'display_data';\n",
              "        await google.colab.output.renderOutput(dataTable, element);\n",
              "        const docLink = document.createElement('div');\n",
              "        docLink.innerHTML = docLinkHtml;\n",
              "        element.appendChild(docLink);\n",
              "      }\n",
              "    </script>\n",
              "  </div>\n",
              "\n",
              "\n",
              "<div id=\"df-aa2258bc-88b3-4946-b887-428f5a7df6b2\">\n",
              "  <button class=\"colab-df-quickchart\" onclick=\"quickchart('df-aa2258bc-88b3-4946-b887-428f5a7df6b2')\"\n",
              "            title=\"Suggest charts\"\n",
              "            style=\"display:none;\">\n",
              "\n",
              "<svg xmlns=\"http://www.w3.org/2000/svg\" height=\"24px\"viewBox=\"0 0 24 24\"\n",
              "     width=\"24px\">\n",
              "    <g>\n",
              "        <path d=\"M19 3H5c-1.1 0-2 .9-2 2v14c0 1.1.9 2 2 2h14c1.1 0 2-.9 2-2V5c0-1.1-.9-2-2-2zM9 17H7v-7h2v7zm4 0h-2V7h2v10zm4 0h-2v-4h2v4z\"/>\n",
              "    </g>\n",
              "</svg>\n",
              "  </button>\n",
              "\n",
              "<style>\n",
              "  .colab-df-quickchart {\n",
              "      --bg-color: #E8F0FE;\n",
              "      --fill-color: #1967D2;\n",
              "      --hover-bg-color: #E2EBFA;\n",
              "      --hover-fill-color: #174EA6;\n",
              "      --disabled-fill-color: #AAA;\n",
              "      --disabled-bg-color: #DDD;\n",
              "  }\n",
              "\n",
              "  [theme=dark] .colab-df-quickchart {\n",
              "      --bg-color: #3B4455;\n",
              "      --fill-color: #D2E3FC;\n",
              "      --hover-bg-color: #434B5C;\n",
              "      --hover-fill-color: #FFFFFF;\n",
              "      --disabled-bg-color: #3B4455;\n",
              "      --disabled-fill-color: #666;\n",
              "  }\n",
              "\n",
              "  .colab-df-quickchart {\n",
              "    background-color: var(--bg-color);\n",
              "    border: none;\n",
              "    border-radius: 50%;\n",
              "    cursor: pointer;\n",
              "    display: none;\n",
              "    fill: var(--fill-color);\n",
              "    height: 32px;\n",
              "    padding: 0;\n",
              "    width: 32px;\n",
              "  }\n",
              "\n",
              "  .colab-df-quickchart:hover {\n",
              "    background-color: var(--hover-bg-color);\n",
              "    box-shadow: 0 1px 2px rgba(60, 64, 67, 0.3), 0 1px 3px 1px rgba(60, 64, 67, 0.15);\n",
              "    fill: var(--button-hover-fill-color);\n",
              "  }\n",
              "\n",
              "  .colab-df-quickchart-complete:disabled,\n",
              "  .colab-df-quickchart-complete:disabled:hover {\n",
              "    background-color: var(--disabled-bg-color);\n",
              "    fill: var(--disabled-fill-color);\n",
              "    box-shadow: none;\n",
              "  }\n",
              "\n",
              "  .colab-df-spinner {\n",
              "    border: 2px solid var(--fill-color);\n",
              "    border-color: transparent;\n",
              "    border-bottom-color: var(--fill-color);\n",
              "    animation:\n",
              "      spin 1s steps(1) infinite;\n",
              "  }\n",
              "\n",
              "  @keyframes spin {\n",
              "    0% {\n",
              "      border-color: transparent;\n",
              "      border-bottom-color: var(--fill-color);\n",
              "      border-left-color: var(--fill-color);\n",
              "    }\n",
              "    20% {\n",
              "      border-color: transparent;\n",
              "      border-left-color: var(--fill-color);\n",
              "      border-top-color: var(--fill-color);\n",
              "    }\n",
              "    30% {\n",
              "      border-color: transparent;\n",
              "      border-left-color: var(--fill-color);\n",
              "      border-top-color: var(--fill-color);\n",
              "      border-right-color: var(--fill-color);\n",
              "    }\n",
              "    40% {\n",
              "      border-color: transparent;\n",
              "      border-right-color: var(--fill-color);\n",
              "      border-top-color: var(--fill-color);\n",
              "    }\n",
              "    60% {\n",
              "      border-color: transparent;\n",
              "      border-right-color: var(--fill-color);\n",
              "    }\n",
              "    80% {\n",
              "      border-color: transparent;\n",
              "      border-right-color: var(--fill-color);\n",
              "      border-bottom-color: var(--fill-color);\n",
              "    }\n",
              "    90% {\n",
              "      border-color: transparent;\n",
              "      border-bottom-color: var(--fill-color);\n",
              "    }\n",
              "  }\n",
              "</style>\n",
              "\n",
              "  <script>\n",
              "    async function quickchart(key) {\n",
              "      const quickchartButtonEl =\n",
              "        document.querySelector('#' + key + ' button');\n",
              "      quickchartButtonEl.disabled = true;  // To prevent multiple clicks.\n",
              "      quickchartButtonEl.classList.add('colab-df-spinner');\n",
              "      try {\n",
              "        const charts = await google.colab.kernel.invokeFunction(\n",
              "            'suggestCharts', [key], {});\n",
              "      } catch (error) {\n",
              "        console.error('Error during call to suggestCharts:', error);\n",
              "      }\n",
              "      quickchartButtonEl.classList.remove('colab-df-spinner');\n",
              "      quickchartButtonEl.classList.add('colab-df-quickchart-complete');\n",
              "    }\n",
              "    (() => {\n",
              "      let quickchartButtonEl =\n",
              "        document.querySelector('#df-aa2258bc-88b3-4946-b887-428f5a7df6b2 button');\n",
              "      quickchartButtonEl.style.display =\n",
              "        google.colab.kernel.accessAllowed ? 'block' : 'none';\n",
              "    })();\n",
              "  </script>\n",
              "</div>\n",
              "\n",
              "    </div>\n",
              "  </div>\n"
            ],
            "application/vnd.google.colaboratory.intrinsic+json": {
              "type": "dataframe",
              "summary": "{\n  \"name\": \"#print(features\",\n  \"rows\": 5,\n  \"fields\": [\n    {\n      \"column\": \"channel1\",\n      \"properties\": {\n        \"dtype\": \"number\",\n        \"std\": 1.0954451150103323e-05,\n        \"min\": -1e-05,\n        \"max\": 1e-05,\n        \"num_unique_values\": 2,\n        \"samples\": [\n          -1e-05,\n          1e-05\n        ],\n        \"semantic_type\": \"\",\n        \"description\": \"\"\n      }\n    },\n    {\n      \"column\": \"channel2\",\n      \"properties\": {\n        \"dtype\": \"number\",\n        \"std\": 1.6431676725154984e-05,\n        \"min\": -2e-05,\n        \"max\": 1e-05,\n        \"num_unique_values\": 2,\n        \"samples\": [\n          1e-05,\n          -2e-05\n        ],\n        \"semantic_type\": \"\",\n        \"description\": \"\"\n      }\n    },\n    {\n      \"column\": \"channel3\",\n      \"properties\": {\n        \"dtype\": \"number\",\n        \"std\": 1.6431676725154987e-05,\n        \"min\": -1e-05,\n        \"max\": 2e-05,\n        \"num_unique_values\": 2,\n        \"samples\": [\n          2e-05,\n          -1e-05\n        ],\n        \"semantic_type\": \"\",\n        \"description\": \"\"\n      }\n    },\n    {\n      \"column\": \"channel4\",\n      \"properties\": {\n        \"dtype\": \"number\",\n        \"std\": 1.6431676725154984e-05,\n        \"min\": -3e-05,\n        \"max\": 0.0,\n        \"num_unique_values\": 2,\n        \"samples\": [\n          0.0,\n          -3e-05\n        ],\n        \"semantic_type\": \"\",\n        \"description\": \"\"\n      }\n    },\n    {\n      \"column\": \"channel5\",\n      \"properties\": {\n        \"dtype\": \"number\",\n        \"std\": 5.477225575051661e-06,\n        \"min\": 0.0,\n        \"max\": 1e-05,\n        \"num_unique_values\": 2,\n        \"samples\": [\n          1e-05,\n          0.0\n        ],\n        \"semantic_type\": \"\",\n        \"description\": \"\"\n      }\n    },\n    {\n      \"column\": \"channel6\",\n      \"properties\": {\n        \"dtype\": \"number\",\n        \"std\": 5.477225575051661e-06,\n        \"min\": -2e-05,\n        \"max\": -1e-05,\n        \"num_unique_values\": 2,\n        \"samples\": [\n          -2e-05,\n          -1e-05\n        ],\n        \"semantic_type\": \"\",\n        \"description\": \"\"\n      }\n    },\n    {\n      \"column\": \"channel7\",\n      \"properties\": {\n        \"dtype\": \"number\",\n        \"std\": 5.477225575051661e-06,\n        \"min\": -1e-05,\n        \"max\": 0.0,\n        \"num_unique_values\": 2,\n        \"samples\": [\n          -1e-05,\n          0.0\n        ],\n        \"semantic_type\": \"\",\n        \"description\": \"\"\n      }\n    },\n    {\n      \"column\": \"channel8\",\n      \"properties\": {\n        \"dtype\": \"number\",\n        \"std\": 1.0954451150103323e-05,\n        \"min\": -1e-05,\n        \"max\": 1e-05,\n        \"num_unique_values\": 2,\n        \"samples\": [\n          1e-05,\n          -1e-05\n        ],\n        \"semantic_type\": \"\",\n        \"description\": \"\"\n      }\n    }\n  ]\n}"
            }
          },
          "metadata": {}
        }
      ]
    },
    {
      "cell_type": "code",
      "source": [
        "Class = df[\"class\"]\n",
        "print(Class.unique())\n",
        "#print(Class.shape())"
      ],
      "metadata": {
        "colab": {
          "base_uri": "https://localhost:8080/"
        },
        "id": "WFQMw6tGzm8U",
        "outputId": "c6e31603-787b-4890-b79d-c40138c38a69"
      },
      "execution_count": 5,
      "outputs": [
        {
          "output_type": "stream",
          "name": "stdout",
          "text": [
            "[ 0.  1.  2.  3.  4.  5.  6. nan]\n"
          ]
        }
      ]
    },
    {
      "cell_type": "code",
      "source": [
        "print(type(Class))\n",
        "print(type(features))\n",
        "\n",
        "Class = Class.values\n",
        "features = features.values\n",
        "\n",
        "print(type(Class))\n",
        "print(type(features))"
      ],
      "metadata": {
        "colab": {
          "base_uri": "https://localhost:8080/"
        },
        "id": "yuxOID0mzm_Q",
        "outputId": "4add21eb-1876-44d2-a502-d9b68205a094"
      },
      "execution_count": 6,
      "outputs": [
        {
          "output_type": "stream",
          "name": "stdout",
          "text": [
            "<class 'pandas.core.series.Series'>\n",
            "<class 'pandas.core.frame.DataFrame'>\n",
            "<class 'numpy.ndarray'>\n",
            "<class 'numpy.ndarray'>\n"
          ]
        }
      ]
    },
    {
      "cell_type": "code",
      "source": [
        "# split in training 70%, validation 10 %,  test 20% test\n",
        "from sklearn.model_selection import train_test_split\n",
        "# 80 and 20\n",
        "x_train, x_test, y_train, y_test = train_test_split(features, Class, test_size=0.2, random_state=1)"
      ],
      "metadata": {
        "id": "kn0BJF4XznBL"
      },
      "execution_count": 7,
      "outputs": []
    },
    {
      "cell_type": "code",
      "source": [
        "# Normalizing data\n",
        "mean = x_train.mean(axis=0)\n",
        "std = x_train.std(axis=0)\n",
        "\n",
        "x_train -= mean\n",
        "x_train /= std\n",
        "\n",
        "x_test -= mean\n",
        "x_test /= std"
      ],
      "metadata": {
        "id": "zFLIii_XzYhL"
      },
      "execution_count": 8,
      "outputs": []
    },
    {
      "cell_type": "code",
      "source": [
        "from sklearn.preprocessing import LabelEncoder\n",
        "\n",
        "# Create a LabelEncoder object\n",
        "encoder = LabelEncoder()\n",
        "\n",
        "# Fit the encoder on your training labels\n",
        "encoder.fit(y_train)\n",
        "\n",
        "# Transform both training and test labels\n",
        "y_train = encoder.transform(y_train)\n",
        "y_test = encoder.transform(y_test)\n",
        "\n",
        "# Now you can use to_categorical\n",
        "y_train = tf.keras.utils.to_categorical(y_train)\n",
        "y_test = tf.keras.utils.to_categorical(y_test)"
      ],
      "metadata": {
        "id": "ZnlixsM7zYjp"
      },
      "execution_count": 10,
      "outputs": []
    },
    {
      "cell_type": "code",
      "source": [
        "# creating a function for plotting\n",
        "\n",
        "def plot(loss,val_loss,acc,val_acc):\n",
        "    loss = history.history['loss']\n",
        "    val_loss = history.history['val_loss']\n",
        "\n",
        "    epochs = range(1, len(loss) + 1)\n",
        "\n",
        "    plt.plot(epochs, loss, 'bo', label='Training loss')\n",
        "    plt.plot(epochs, val_loss, 'b', label='Validation loss')\n",
        "    plt.title('Training and validation loss')\n",
        "    plt.xlabel('Epochs')\n",
        "    plt.ylabel('Loss')\n",
        "    plt.legend()\n",
        "    plt.show()\n",
        "\n",
        "    acc = history.history['accuracy']\n",
        "    val_acc = history.history['val_accuracy']\n",
        "\n",
        "    epochs = range(1, len(acc) + 1)\n",
        "\n",
        "    plt.plot(epochs, acc, 'bo', label='Training acc')\n",
        "    plt.plot(epochs, val_acc, 'b', label='Validation acc')\n",
        "    plt.title('Training and validation acc')\n",
        "    plt.xlabel('Epochs')\n",
        "    plt.ylabel('acc')\n",
        "    plt.legend()\n",
        "    plt.show()"
      ],
      "metadata": {
        "id": "_T76YSBez2kx"
      },
      "execution_count": 11,
      "outputs": []
    },
    {
      "cell_type": "code",
      "source": [
        "from tensorflow.keras import layers, Sequential, optimizers, Input, Model\n",
        "\n",
        "input_tensor = Input(shape=(8,))\n",
        "x = layers.Dense(1024, activation='relu')(input_tensor)\n",
        "y = layers.Dense(512, activation='relu')(x)\n",
        "z = layers.Dense(256, activation='relu')(y)\n",
        "z = layers.Dense(128, activation='relu')(z)\n",
        "z = layers.Dense(64, activation='relu')(z)\n",
        "z = layers.Dense(32, activation='relu')(z)\n",
        "z = layers.Dense(128, activation='relu')(y) # acyclic graghs of layers\n",
        "z = layers.Dense(64, activation='relu')(z)\n",
        "z = layers.Dense(32, activation='relu')(z)\n",
        "output_tensor = layers.Dense(8, activation='softmax')(z)\n",
        "\n",
        "model = Model(input_tensor, output_tensor)\n",
        "\n",
        "#SGD #RMSprop #Adam #Adadelta #Adagrad ##Adamax ###Nadam #Ftrl\n",
        "opt = optimizers.Nadam(lr=1e-3)\n",
        "model.compile(optimizer = opt,\n",
        "              loss = \"categorical_crossentropy\",\n",
        "              metrics = [\"accuracy\"])\n",
        "\n",
        "model.summary()"
      ],
      "metadata": {
        "colab": {
          "base_uri": "https://localhost:8080/",
          "height": 373
        },
        "id": "HhnEIYoxz2pC",
        "outputId": "b6566921-08ab-4ee1-d99f-fe39ca7aa37d"
      },
      "execution_count": 12,
      "outputs": [
        {
          "output_type": "error",
          "ename": "ValueError",
          "evalue": "Argument(s) not recognized: {'lr': 0.001}",
          "traceback": [
            "\u001b[0;31m---------------------------------------------------------------------------\u001b[0m",
            "\u001b[0;31mValueError\u001b[0m                                Traceback (most recent call last)",
            "\u001b[0;32m<ipython-input-12-de1c4edb975d>\u001b[0m in \u001b[0;36m<cell line: 18>\u001b[0;34m()\u001b[0m\n\u001b[1;32m     16\u001b[0m \u001b[0;34m\u001b[0m\u001b[0m\n\u001b[1;32m     17\u001b[0m \u001b[0;31m#SGD #RMSprop #Adam #Adadelta #Adagrad ##Adamax ###Nadam #Ftrl\u001b[0m\u001b[0;34m\u001b[0m\u001b[0;34m\u001b[0m\u001b[0m\n\u001b[0;32m---> 18\u001b[0;31m \u001b[0mopt\u001b[0m \u001b[0;34m=\u001b[0m \u001b[0moptimizers\u001b[0m\u001b[0;34m.\u001b[0m\u001b[0mNadam\u001b[0m\u001b[0;34m(\u001b[0m\u001b[0mlr\u001b[0m\u001b[0;34m=\u001b[0m\u001b[0;36m1e-3\u001b[0m\u001b[0;34m)\u001b[0m\u001b[0;34m\u001b[0m\u001b[0;34m\u001b[0m\u001b[0m\n\u001b[0m\u001b[1;32m     19\u001b[0m model.compile(optimizer = opt, \n\u001b[1;32m     20\u001b[0m               \u001b[0mloss\u001b[0m \u001b[0;34m=\u001b[0m \u001b[0;34m\"categorical_crossentropy\"\u001b[0m\u001b[0;34m,\u001b[0m\u001b[0;34m\u001b[0m\u001b[0;34m\u001b[0m\u001b[0m\n",
            "\u001b[0;32m/usr/local/lib/python3.10/dist-packages/keras/src/optimizers/nadam.py\u001b[0m in \u001b[0;36m__init__\u001b[0;34m(self, learning_rate, beta_1, beta_2, epsilon, weight_decay, clipnorm, clipvalue, global_clipnorm, use_ema, ema_momentum, ema_overwrite_frequency, loss_scale_factor, gradient_accumulation_steps, name, **kwargs)\u001b[0m\n\u001b[1;32m     55\u001b[0m         \u001b[0;34m**\u001b[0m\u001b[0mkwargs\u001b[0m\u001b[0;34m,\u001b[0m\u001b[0;34m\u001b[0m\u001b[0;34m\u001b[0m\u001b[0m\n\u001b[1;32m     56\u001b[0m     ):\n\u001b[0;32m---> 57\u001b[0;31m         super().__init__(\n\u001b[0m\u001b[1;32m     58\u001b[0m             \u001b[0mlearning_rate\u001b[0m\u001b[0;34m=\u001b[0m\u001b[0mlearning_rate\u001b[0m\u001b[0;34m,\u001b[0m\u001b[0;34m\u001b[0m\u001b[0;34m\u001b[0m\u001b[0m\n\u001b[1;32m     59\u001b[0m             \u001b[0mname\u001b[0m\u001b[0;34m=\u001b[0m\u001b[0mname\u001b[0m\u001b[0;34m,\u001b[0m\u001b[0;34m\u001b[0m\u001b[0;34m\u001b[0m\u001b[0m\n",
            "\u001b[0;32m/usr/local/lib/python3.10/dist-packages/keras/src/backend/tensorflow/optimizer.py\u001b[0m in \u001b[0;36m__init__\u001b[0;34m(self, *args, **kwargs)\u001b[0m\n\u001b[1;32m     20\u001b[0m \u001b[0;34m\u001b[0m\u001b[0m\n\u001b[1;32m     21\u001b[0m     \u001b[0;32mdef\u001b[0m \u001b[0m__init__\u001b[0m\u001b[0;34m(\u001b[0m\u001b[0mself\u001b[0m\u001b[0;34m,\u001b[0m \u001b[0;34m*\u001b[0m\u001b[0margs\u001b[0m\u001b[0;34m,\u001b[0m \u001b[0;34m**\u001b[0m\u001b[0mkwargs\u001b[0m\u001b[0;34m)\u001b[0m\u001b[0;34m:\u001b[0m\u001b[0;34m\u001b[0m\u001b[0;34m\u001b[0m\u001b[0m\n\u001b[0;32m---> 22\u001b[0;31m         \u001b[0msuper\u001b[0m\u001b[0;34m(\u001b[0m\u001b[0;34m)\u001b[0m\u001b[0;34m.\u001b[0m\u001b[0m__init__\u001b[0m\u001b[0;34m(\u001b[0m\u001b[0;34m*\u001b[0m\u001b[0margs\u001b[0m\u001b[0;34m,\u001b[0m \u001b[0;34m**\u001b[0m\u001b[0mkwargs\u001b[0m\u001b[0;34m)\u001b[0m\u001b[0;34m\u001b[0m\u001b[0;34m\u001b[0m\u001b[0m\n\u001b[0m\u001b[1;32m     23\u001b[0m         \u001b[0mself\u001b[0m\u001b[0;34m.\u001b[0m\u001b[0m_distribution_strategy\u001b[0m \u001b[0;34m=\u001b[0m \u001b[0mtf\u001b[0m\u001b[0;34m.\u001b[0m\u001b[0mdistribute\u001b[0m\u001b[0;34m.\u001b[0m\u001b[0mget_strategy\u001b[0m\u001b[0;34m(\u001b[0m\u001b[0;34m)\u001b[0m\u001b[0;34m\u001b[0m\u001b[0;34m\u001b[0m\u001b[0m\n\u001b[1;32m     24\u001b[0m \u001b[0;34m\u001b[0m\u001b[0m\n",
            "\u001b[0;32m/usr/local/lib/python3.10/dist-packages/keras/src/optimizers/base_optimizer.py\u001b[0m in \u001b[0;36m__init__\u001b[0;34m(self, learning_rate, weight_decay, clipnorm, clipvalue, global_clipnorm, use_ema, ema_momentum, ema_overwrite_frequency, loss_scale_factor, gradient_accumulation_steps, name, **kwargs)\u001b[0m\n\u001b[1;32m     35\u001b[0m             )\n\u001b[1;32m     36\u001b[0m         \u001b[0;32mif\u001b[0m \u001b[0mkwargs\u001b[0m\u001b[0;34m:\u001b[0m\u001b[0;34m\u001b[0m\u001b[0;34m\u001b[0m\u001b[0m\n\u001b[0;32m---> 37\u001b[0;31m             \u001b[0;32mraise\u001b[0m \u001b[0mValueError\u001b[0m\u001b[0;34m(\u001b[0m\u001b[0;34mf\"Argument(s) not recognized: {kwargs}\"\u001b[0m\u001b[0;34m)\u001b[0m\u001b[0;34m\u001b[0m\u001b[0;34m\u001b[0m\u001b[0m\n\u001b[0m\u001b[1;32m     38\u001b[0m \u001b[0;34m\u001b[0m\u001b[0m\n\u001b[1;32m     39\u001b[0m         \u001b[0;32mif\u001b[0m \u001b[0mname\u001b[0m \u001b[0;32mis\u001b[0m \u001b[0;32mNone\u001b[0m\u001b[0;34m:\u001b[0m\u001b[0;34m\u001b[0m\u001b[0;34m\u001b[0m\u001b[0m\n",
            "\u001b[0;31mValueError\u001b[0m: Argument(s) not recognized: {'lr': 0.001}"
          ]
        }
      ]
    },
    {
      "cell_type": "code",
      "source": [
        "# saving model, creating log for tensorboaed and applying few callbacks\n",
        "\n",
        "def callbacks(Log,Dir):\n",
        "  import tensorflow as tf\n",
        "  import os\n",
        "\n",
        "  Filepath = Path\n",
        "  logdir = os.path.join(Filepath, Dir)\n",
        "\n",
        "  callbacks_list = [tf.keras.callbacks.TensorBoard(\n",
        "                    log_dir=logdir,                 #  tensorboard log path\n",
        "                    histogram_freq=1,),\n",
        "                    tf.keras.callbacks.EarlyStopping(   # stop if not improving\n",
        "                    monitor='val_accuracy',patience=2,),           # monitor validation accuracy\n",
        "                    #tf.keras.callbacks.ReduceLROnPlateau(\n",
        "                    #monitor='val_loss',factor=0.1,         # lr ko .1 se multiply kerdo (kam kerdo)\n",
        "                    #patience=10,),                # reduce the lrate if val loss stop improving\n",
        "                    tf.keras.callbacks.ModelCheckpoint(\n",
        "                    filepath= Filepath,             # save model path\n",
        "                    monitor='val_loss',             # only save best weights\n",
        "                    save_best_only=True,)]\n",
        "  return callbacks_list"
      ],
      "metadata": {
        "id": "ofaTfy3az2ro"
      },
      "execution_count": 13,
      "outputs": []
    },
    {
      "cell_type": "code",
      "source": [
        "Path = \"model1\"\n",
        "Dir = \"my_log_dir\"\n",
        "Call_B_Fun = callbacks(Path,Dir)\n",
        "\n",
        "batch_size = 512\n",
        "epochs = 20\n",
        "\n",
        "history = model.fit(x_train, y_train,\n",
        "                    batch_size=batch_size, epochs = epochs,\n",
        "                    validation_split = 0.2, callbacks=Call_B_Fun)\n",
        "\n",
        "loss = history.history['loss']\n",
        "Path = \"model1\"\n",
        "Dir = \"my_log_dir\"\n",
        "Call_B_Fun = callbacks(Path,Dir)\n",
        "\n",
        "batch_size = 512\n",
        "epochs = 20\n",
        "\n",
        "history = model.fit(x_train, y_train,\n",
        "                    batch_size=batch_size, epochs = epochs,\n",
        "                    validation_split = 0.2, callbacks=Call_B_Fun)\n",
        "\n",
        "loss = history.history['loss']\n",
        "val_loss = history.history['val_loss']\n",
        "acc = history.history['accuracy']\n",
        "val_acc = history.history['val_accuracy']"
      ],
      "metadata": {
        "colab": {
          "base_uri": "https://localhost:8080/",
          "height": 106
        },
        "id": "umrKroTF0Xuo",
        "outputId": "e7b54514-20f0-48de-908e-7691171076f5"
      },
      "execution_count": 15,
      "outputs": [
        {
          "output_type": "error",
          "ename": "SyntaxError",
          "evalue": "unterminated string literal (detected at line 15) (<ipython-input-15-dc3efde0f98a>, line 15)",
          "traceback": [
            "\u001b[0;36m  File \u001b[0;32m\"<ipython-input-15-dc3efde0f98a>\"\u001b[0;36m, line \u001b[0;32m15\u001b[0m\n\u001b[0;31m    val_acc = history.history['val_ac\u001b[0m\n\u001b[0m                              ^\u001b[0m\n\u001b[0;31mSyntaxError\u001b[0m\u001b[0;31m:\u001b[0m unterminated string literal (detected at line 15)\n"
          ]
        }
      ]
    },
    {
      "cell_type": "code",
      "source": [
        "def callbacks(Log,Dir):\n",
        "  import tensorflow as tf\n",
        "  import os\n",
        "\n",
        "  Filepath = Log + \".keras\" # Change this line to include the .keras extension\n",
        "  logdir = os.path.join(Filepath, Dir)\n",
        "\n",
        "  callbacks_list = [tf.keras.callbacks.TensorBoard(\n",
        "                    log_dir=logdir,                 #  tensorboard log path\n",
        "                    histogram_freq=1,),\n",
        "                    tf.keras.callbacks.EarlyStopping(   # stop if not improving\n",
        "                    monitor='val_accuracy',patience=2,),           # monitor validation accuracy\n",
        "                    #tf.keras.callbacks.ReduceLROnPlateau(\n",
        "                    #monitor='val_loss',factor=0.1,         # lr ko .1 se multiply kerdo (kam kerdo)\n",
        "                    #patience=10,),                # reduce the lrate if val loss stop improving\n",
        "                    tf.keras.callbacks.ModelCheckpoint(\n",
        "                    filepath= Filepath,             # save model path\n",
        "                    monitor='val_loss',             # only save best weights\n",
        "                    save_best_only=True,)]\n",
        "  return callbacks_list"
      ],
      "metadata": {
        "id": "-GkwmssF1UgB"
      },
      "execution_count": 17,
      "outputs": []
    },
    {
      "cell_type": "code",
      "source": [
        "Path = \"model1\"\n",
        "Dir = \"my_log_dir\"\n",
        "Call_B_Fun = callbacks(Path,Dir)\n",
        "\n",
        "batch_size = 512\n",
        "epochs = 20\n",
        "\n",
        "# Re-compile the model before fitting it again\n",
        "#SGD #RMSprop #Adam #Adadelta #Adagrad ##Adamax ###Nadam #Ftrl\n",
        "opt = optimizers.Nadam(learning_rate=1e-3)  # Change lr to learning_rate\n",
        "model.compile(optimizer = opt,\n",
        "              loss = \"categorical_crossentropy\",\n",
        "              metrics = [\"accuracy\"])\n",
        "\n",
        "history = model.fit(x_train, y_train,\n",
        "                    batch_size=batch_size, epochs = epochs,\n",
        "                    validation_split = 0.2, callbacks=Call_B_Fun)\n",
        "\n",
        "loss = history.history['loss']\n",
        "val_loss = history.history['val_loss']\n",
        "acc = history.history['accuracy']\n",
        "val_acc = history.history['val_accuracy']"
      ],
      "metadata": {
        "colab": {
          "base_uri": "https://localhost:8080/"
        },
        "id": "eET_OIQ_1ZNx",
        "outputId": "cf42b191-9d31-44d0-c6de-8505105baf21"
      },
      "execution_count": 21,
      "outputs": [
        {
          "output_type": "stream",
          "name": "stdout",
          "text": [
            "Epoch 1/20\n",
            "\u001b[1m203/203\u001b[0m \u001b[32m━━━━━━━━━━━━━━━━━━━━\u001b[0m\u001b[37m\u001b[0m \u001b[1m22s\u001b[0m 76ms/step - accuracy: 0.6753 - loss: nan - val_accuracy: 0.6726 - val_loss: nan\n",
            "Epoch 2/20\n",
            "\u001b[1m203/203\u001b[0m \u001b[32m━━━━━━━━━━━━━━━━━━━━\u001b[0m\u001b[37m\u001b[0m \u001b[1m20s\u001b[0m 77ms/step - accuracy: 0.6762 - loss: nan - val_accuracy: 0.6726 - val_loss: nan\n",
            "Epoch 3/20\n",
            "\u001b[1m203/203\u001b[0m \u001b[32m━━━━━━━━━━━━━━━━━━━━\u001b[0m\u001b[37m\u001b[0m \u001b[1m16s\u001b[0m 78ms/step - accuracy: 0.6729 - loss: nan - val_accuracy: 0.6726 - val_loss: nan\n"
          ]
        }
      ]
    }
  ]
}